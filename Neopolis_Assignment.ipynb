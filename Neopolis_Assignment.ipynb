{
 "cells": [
  {
   "cell_type": "markdown",
   "metadata": {},
   "source": [
    "# library Used"
   ]
  },
  {
   "cell_type": "code",
   "execution_count": 1,
   "metadata": {},
   "outputs": [],
   "source": [
    "import pandas as pd\n",
    "from sklearn import preprocessing\n",
    "import matplotlib.pyplot as plt\n",
    "import numpy as np\n",
    "from sklearn.metrics import confusion_matrix, classification_report\n",
    "from sklearn.linear_model import LogisticRegression\n",
    "import seaborn as sns\n",
    "import matplotlib.pyplot as plt"
   ]
  },
  {
   "cell_type": "markdown",
   "metadata": {},
   "source": [
    "# Load Data From Excel File"
   ]
  },
  {
   "cell_type": "code",
   "execution_count": 2,
   "metadata": {},
   "outputs": [
    {
     "data": {
      "text/html": [
       "<div>\n",
       "<style scoped>\n",
       "    .dataframe tbody tr th:only-of-type {\n",
       "        vertical-align: middle;\n",
       "    }\n",
       "\n",
       "    .dataframe tbody tr th {\n",
       "        vertical-align: top;\n",
       "    }\n",
       "\n",
       "    .dataframe thead th {\n",
       "        text-align: right;\n",
       "    }\n",
       "</style>\n",
       "<table border=\"1\" class=\"dataframe\">\n",
       "  <thead>\n",
       "    <tr style=\"text-align: right;\">\n",
       "      <th></th>\n",
       "      <th>id_mutation</th>\n",
       "      <th>date_mutation</th>\n",
       "      <th>surface_reelle_bati</th>\n",
       "      <th>nombre_pieces_principales</th>\n",
       "      <th>longitude</th>\n",
       "      <th>latitude</th>\n",
       "      <th>distance_mer</th>\n",
       "      <th>prix</th>\n",
       "    </tr>\n",
       "  </thead>\n",
       "  <tbody>\n",
       "    <tr>\n",
       "      <th>0</th>\n",
       "      <td>2014-871332</td>\n",
       "      <td>2014</td>\n",
       "      <td>153</td>\n",
       "      <td>4</td>\n",
       "      <td>6.484708</td>\n",
       "      <td>43.506405</td>\n",
       "      <td>NaN</td>\n",
       "      <td>275000.0</td>\n",
       "    </tr>\n",
       "    <tr>\n",
       "      <th>1</th>\n",
       "      <td>2014-871334</td>\n",
       "      <td>2014</td>\n",
       "      <td>90</td>\n",
       "      <td>4</td>\n",
       "      <td>6.745540</td>\n",
       "      <td>43.461693</td>\n",
       "      <td>NaN</td>\n",
       "      <td>370000.0</td>\n",
       "    </tr>\n",
       "    <tr>\n",
       "      <th>2</th>\n",
       "      <td>2014-871343</td>\n",
       "      <td>2014</td>\n",
       "      <td>46</td>\n",
       "      <td>3</td>\n",
       "      <td>6.836668</td>\n",
       "      <td>43.525037</td>\n",
       "      <td>NaN</td>\n",
       "      <td>302500.0</td>\n",
       "    </tr>\n",
       "    <tr>\n",
       "      <th>3</th>\n",
       "      <td>2014-871344</td>\n",
       "      <td>2014</td>\n",
       "      <td>117</td>\n",
       "      <td>5</td>\n",
       "      <td>6.802083</td>\n",
       "      <td>43.433279</td>\n",
       "      <td>NaN</td>\n",
       "      <td>210000.0</td>\n",
       "    </tr>\n",
       "    <tr>\n",
       "      <th>4</th>\n",
       "      <td>2014-871347</td>\n",
       "      <td>2014</td>\n",
       "      <td>98</td>\n",
       "      <td>4</td>\n",
       "      <td>6.483364</td>\n",
       "      <td>43.509586</td>\n",
       "      <td>NaN</td>\n",
       "      <td>280000.0</td>\n",
       "    </tr>\n",
       "  </tbody>\n",
       "</table>\n",
       "</div>"
      ],
      "text/plain": [
       "   id_mutation  date_mutation  surface_reelle_bati  nombre_pieces_principales  \\\n",
       "0  2014-871332           2014                  153                          4   \n",
       "1  2014-871334           2014                   90                          4   \n",
       "2  2014-871343           2014                   46                          3   \n",
       "3  2014-871344           2014                  117                          5   \n",
       "4  2014-871347           2014                   98                          4   \n",
       "\n",
       "   longitude   latitude  distance_mer      prix  \n",
       "0   6.484708  43.506405           NaN  275000.0  \n",
       "1   6.745540  43.461693           NaN  370000.0  \n",
       "2   6.836668  43.525037           NaN  302500.0  \n",
       "3   6.802083  43.433279           NaN  210000.0  \n",
       "4   6.483364  43.509586           NaN  280000.0  "
      ]
     },
     "execution_count": 2,
     "metadata": {},
     "output_type": "execute_result"
    }
   ],
   "source": [
    "df1 = pd.read_excel('Data - Test technique PFE 8.xlsx')\n",
    "df1.head()"
   ]
  },
  {
   "cell_type": "code",
   "execution_count": 3,
   "metadata": {},
   "outputs": [
    {
     "data": {
      "text/html": [
       "<div>\n",
       "<style scoped>\n",
       "    .dataframe tbody tr th:only-of-type {\n",
       "        vertical-align: middle;\n",
       "    }\n",
       "\n",
       "    .dataframe tbody tr th {\n",
       "        vertical-align: top;\n",
       "    }\n",
       "\n",
       "    .dataframe thead th {\n",
       "        text-align: right;\n",
       "    }\n",
       "</style>\n",
       "<table border=\"1\" class=\"dataframe\">\n",
       "  <thead>\n",
       "    <tr style=\"text-align: right;\">\n",
       "      <th></th>\n",
       "      <th>id_mutation</th>\n",
       "      <th>date_mutation</th>\n",
       "      <th>surface_reelle_bati</th>\n",
       "      <th>nombre_pieces_principales</th>\n",
       "      <th>longitude</th>\n",
       "      <th>latitude</th>\n",
       "      <th>distance_mer</th>\n",
       "      <th>prix</th>\n",
       "    </tr>\n",
       "  </thead>\n",
       "  <tbody>\n",
       "    <tr>\n",
       "      <th>0</th>\n",
       "      <td>2014-871332</td>\n",
       "      <td>2014</td>\n",
       "      <td>153</td>\n",
       "      <td>4</td>\n",
       "      <td>6.484708</td>\n",
       "      <td>43.506405</td>\n",
       "      <td>NaN</td>\n",
       "      <td>275000.0</td>\n",
       "    </tr>\n",
       "    <tr>\n",
       "      <th>1</th>\n",
       "      <td>2014-871334</td>\n",
       "      <td>2014</td>\n",
       "      <td>90</td>\n",
       "      <td>4</td>\n",
       "      <td>6.745540</td>\n",
       "      <td>43.461693</td>\n",
       "      <td>NaN</td>\n",
       "      <td>370000.0</td>\n",
       "    </tr>\n",
       "    <tr>\n",
       "      <th>2</th>\n",
       "      <td>2014-871343</td>\n",
       "      <td>2014</td>\n",
       "      <td>46</td>\n",
       "      <td>3</td>\n",
       "      <td>6.836668</td>\n",
       "      <td>43.525037</td>\n",
       "      <td>NaN</td>\n",
       "      <td>302500.0</td>\n",
       "    </tr>\n",
       "    <tr>\n",
       "      <th>3</th>\n",
       "      <td>2014-871344</td>\n",
       "      <td>2014</td>\n",
       "      <td>117</td>\n",
       "      <td>5</td>\n",
       "      <td>6.802083</td>\n",
       "      <td>43.433279</td>\n",
       "      <td>NaN</td>\n",
       "      <td>210000.0</td>\n",
       "    </tr>\n",
       "    <tr>\n",
       "      <th>4</th>\n",
       "      <td>2014-871347</td>\n",
       "      <td>2014</td>\n",
       "      <td>98</td>\n",
       "      <td>4</td>\n",
       "      <td>6.483364</td>\n",
       "      <td>43.509586</td>\n",
       "      <td>NaN</td>\n",
       "      <td>280000.0</td>\n",
       "    </tr>\n",
       "    <tr>\n",
       "      <th>...</th>\n",
       "      <td>...</td>\n",
       "      <td>...</td>\n",
       "      <td>...</td>\n",
       "      <td>...</td>\n",
       "      <td>...</td>\n",
       "      <td>...</td>\n",
       "      <td>...</td>\n",
       "      <td>...</td>\n",
       "    </tr>\n",
       "    <tr>\n",
       "      <th>994</th>\n",
       "      <td>2014-877801</td>\n",
       "      <td>2014</td>\n",
       "      <td>88</td>\n",
       "      <td>4</td>\n",
       "      <td>6.033051</td>\n",
       "      <td>43.341624</td>\n",
       "      <td>NaN</td>\n",
       "      <td>493917.7</td>\n",
       "    </tr>\n",
       "    <tr>\n",
       "      <th>995</th>\n",
       "      <td>2014-877805</td>\n",
       "      <td>2014</td>\n",
       "      <td>32</td>\n",
       "      <td>1</td>\n",
       "      <td>5.876707</td>\n",
       "      <td>43.602998</td>\n",
       "      <td>NaN</td>\n",
       "      <td>185000.0</td>\n",
       "    </tr>\n",
       "    <tr>\n",
       "      <th>996</th>\n",
       "      <td>2014-877806</td>\n",
       "      <td>2014</td>\n",
       "      <td>79</td>\n",
       "      <td>4</td>\n",
       "      <td>6.691434</td>\n",
       "      <td>43.619773</td>\n",
       "      <td>NaN</td>\n",
       "      <td>225000.0</td>\n",
       "    </tr>\n",
       "    <tr>\n",
       "      <th>997</th>\n",
       "      <td>2014-877809</td>\n",
       "      <td>2014</td>\n",
       "      <td>50</td>\n",
       "      <td>2</td>\n",
       "      <td>6.693541</td>\n",
       "      <td>43.624888</td>\n",
       "      <td>NaN</td>\n",
       "      <td>140000.0</td>\n",
       "    </tr>\n",
       "    <tr>\n",
       "      <th>998</th>\n",
       "      <td>2014-877816</td>\n",
       "      <td>2014</td>\n",
       "      <td>108</td>\n",
       "      <td>4</td>\n",
       "      <td>6.045601</td>\n",
       "      <td>43.327445</td>\n",
       "      <td>NaN</td>\n",
       "      <td>120000.0</td>\n",
       "    </tr>\n",
       "  </tbody>\n",
       "</table>\n",
       "<p>999 rows × 8 columns</p>\n",
       "</div>"
      ],
      "text/plain": [
       "     id_mutation  date_mutation  surface_reelle_bati  \\\n",
       "0    2014-871332           2014                  153   \n",
       "1    2014-871334           2014                   90   \n",
       "2    2014-871343           2014                   46   \n",
       "3    2014-871344           2014                  117   \n",
       "4    2014-871347           2014                   98   \n",
       "..           ...            ...                  ...   \n",
       "994  2014-877801           2014                   88   \n",
       "995  2014-877805           2014                   32   \n",
       "996  2014-877806           2014                   79   \n",
       "997  2014-877809           2014                   50   \n",
       "998  2014-877816           2014                  108   \n",
       "\n",
       "     nombre_pieces_principales  longitude   latitude  distance_mer      prix  \n",
       "0                            4   6.484708  43.506405           NaN  275000.0  \n",
       "1                            4   6.745540  43.461693           NaN  370000.0  \n",
       "2                            3   6.836668  43.525037           NaN  302500.0  \n",
       "3                            5   6.802083  43.433279           NaN  210000.0  \n",
       "4                            4   6.483364  43.509586           NaN  280000.0  \n",
       "..                         ...        ...        ...           ...       ...  \n",
       "994                          4   6.033051  43.341624           NaN  493917.7  \n",
       "995                          1   5.876707  43.602998           NaN  185000.0  \n",
       "996                          4   6.691434  43.619773           NaN  225000.0  \n",
       "997                          2   6.693541  43.624888           NaN  140000.0  \n",
       "998                          4   6.045601  43.327445           NaN  120000.0  \n",
       "\n",
       "[999 rows x 8 columns]"
      ]
     },
     "execution_count": 3,
     "metadata": {},
     "output_type": "execute_result"
    }
   ],
   "source": [
    "DF1 = df1.copy()\n",
    "DF1"
   ]
  },
  {
   "cell_type": "code",
   "execution_count": 4,
   "metadata": {},
   "outputs": [
    {
     "data": {
      "text/html": [
       "<div>\n",
       "<style scoped>\n",
       "    .dataframe tbody tr th:only-of-type {\n",
       "        vertical-align: middle;\n",
       "    }\n",
       "\n",
       "    .dataframe tbody tr th {\n",
       "        vertical-align: top;\n",
       "    }\n",
       "\n",
       "    .dataframe thead th {\n",
       "        text-align: right;\n",
       "    }\n",
       "</style>\n",
       "<table border=\"1\" class=\"dataframe\">\n",
       "  <thead>\n",
       "    <tr style=\"text-align: right;\">\n",
       "      <th></th>\n",
       "      <th>longitude</th>\n",
       "      <th>latitude</th>\n",
       "      <th>ll</th>\n",
       "    </tr>\n",
       "  </thead>\n",
       "  <tbody>\n",
       "    <tr>\n",
       "      <th>0</th>\n",
       "      <td>5.670597</td>\n",
       "      <td>43.179075</td>\n",
       "      <td>0</td>\n",
       "    </tr>\n",
       "    <tr>\n",
       "      <th>1</th>\n",
       "      <td>5.687840</td>\n",
       "      <td>43.176488</td>\n",
       "      <td>0</td>\n",
       "    </tr>\n",
       "    <tr>\n",
       "      <th>2</th>\n",
       "      <td>5.690636</td>\n",
       "      <td>43.167890</td>\n",
       "      <td>0</td>\n",
       "    </tr>\n",
       "    <tr>\n",
       "      <th>3</th>\n",
       "      <td>5.685014</td>\n",
       "      <td>43.163261</td>\n",
       "      <td>0</td>\n",
       "    </tr>\n",
       "    <tr>\n",
       "      <th>4</th>\n",
       "      <td>5.683744</td>\n",
       "      <td>43.156497</td>\n",
       "      <td>0</td>\n",
       "    </tr>\n",
       "  </tbody>\n",
       "</table>\n",
       "</div>"
      ],
      "text/plain": [
       "   longitude   latitude  ll\n",
       "0   5.670597  43.179075   0\n",
       "1   5.687840  43.176488   0\n",
       "2   5.690636  43.167890   0\n",
       "3   5.685014  43.163261   0\n",
       "4   5.683744  43.156497   0"
      ]
     },
     "execution_count": 4,
     "metadata": {},
     "output_type": "execute_result"
    }
   ],
   "source": [
    "df2 = pd.read_csv('mer positions.csv')\n",
    "df2.head()"
   ]
  },
  {
   "cell_type": "code",
   "execution_count": 5,
   "metadata": {},
   "outputs": [
    {
     "data": {
      "text/html": [
       "<div>\n",
       "<style scoped>\n",
       "    .dataframe tbody tr th:only-of-type {\n",
       "        vertical-align: middle;\n",
       "    }\n",
       "\n",
       "    .dataframe tbody tr th {\n",
       "        vertical-align: top;\n",
       "    }\n",
       "\n",
       "    .dataframe thead th {\n",
       "        text-align: right;\n",
       "    }\n",
       "</style>\n",
       "<table border=\"1\" class=\"dataframe\">\n",
       "  <thead>\n",
       "    <tr style=\"text-align: right;\">\n",
       "      <th></th>\n",
       "      <th>longitude</th>\n",
       "      <th>latitude</th>\n",
       "      <th>ll</th>\n",
       "    </tr>\n",
       "  </thead>\n",
       "  <tbody>\n",
       "    <tr>\n",
       "      <th>0</th>\n",
       "      <td>5.670597</td>\n",
       "      <td>43.179075</td>\n",
       "      <td>0</td>\n",
       "    </tr>\n",
       "    <tr>\n",
       "      <th>1</th>\n",
       "      <td>5.687840</td>\n",
       "      <td>43.176488</td>\n",
       "      <td>0</td>\n",
       "    </tr>\n",
       "    <tr>\n",
       "      <th>2</th>\n",
       "      <td>5.690636</td>\n",
       "      <td>43.167890</td>\n",
       "      <td>0</td>\n",
       "    </tr>\n",
       "    <tr>\n",
       "      <th>3</th>\n",
       "      <td>5.685014</td>\n",
       "      <td>43.163261</td>\n",
       "      <td>0</td>\n",
       "    </tr>\n",
       "    <tr>\n",
       "      <th>4</th>\n",
       "      <td>5.683744</td>\n",
       "      <td>43.156497</td>\n",
       "      <td>0</td>\n",
       "    </tr>\n",
       "    <tr>\n",
       "      <th>...</th>\n",
       "      <td>...</td>\n",
       "      <td>...</td>\n",
       "      <td>...</td>\n",
       "    </tr>\n",
       "    <tr>\n",
       "      <th>788</th>\n",
       "      <td>6.898451</td>\n",
       "      <td>43.431278</td>\n",
       "      <td>0</td>\n",
       "    </tr>\n",
       "    <tr>\n",
       "      <th>789</th>\n",
       "      <td>6.901374</td>\n",
       "      <td>43.436862</td>\n",
       "      <td>0</td>\n",
       "    </tr>\n",
       "    <tr>\n",
       "      <th>790</th>\n",
       "      <td>6.904298</td>\n",
       "      <td>43.442445</td>\n",
       "      <td>0</td>\n",
       "    </tr>\n",
       "    <tr>\n",
       "      <th>791</th>\n",
       "      <td>6.915509</td>\n",
       "      <td>43.451442</td>\n",
       "      <td>0</td>\n",
       "    </tr>\n",
       "    <tr>\n",
       "      <th>792</th>\n",
       "      <td>6.929988</td>\n",
       "      <td>43.475887</td>\n",
       "      <td>0</td>\n",
       "    </tr>\n",
       "  </tbody>\n",
       "</table>\n",
       "<p>793 rows × 3 columns</p>\n",
       "</div>"
      ],
      "text/plain": [
       "     longitude   latitude  ll\n",
       "0     5.670597  43.179075   0\n",
       "1     5.687840  43.176488   0\n",
       "2     5.690636  43.167890   0\n",
       "3     5.685014  43.163261   0\n",
       "4     5.683744  43.156497   0\n",
       "..         ...        ...  ..\n",
       "788   6.898451  43.431278   0\n",
       "789   6.901374  43.436862   0\n",
       "790   6.904298  43.442445   0\n",
       "791   6.915509  43.451442   0\n",
       "792   6.929988  43.475887   0\n",
       "\n",
       "[793 rows x 3 columns]"
      ]
     },
     "execution_count": 5,
     "metadata": {},
     "output_type": "execute_result"
    }
   ],
   "source": [
    "DF2 = df2.copy()\n",
    "DF2"
   ]
  },
  {
   "cell_type": "code",
   "execution_count": 6,
   "metadata": {},
   "outputs": [
    {
     "name": "stdout",
     "output_type": "stream",
     "text": [
      "<class 'pandas.core.frame.DataFrame'>\n",
      "RangeIndex: 999 entries, 0 to 998\n",
      "Data columns (total 8 columns):\n",
      " #   Column                     Non-Null Count  Dtype  \n",
      "---  ------                     --------------  -----  \n",
      " 0   id_mutation                999 non-null    object \n",
      " 1   date_mutation              999 non-null    int64  \n",
      " 2   surface_reelle_bati        999 non-null    int64  \n",
      " 3   nombre_pieces_principales  999 non-null    int64  \n",
      " 4   longitude                  999 non-null    float64\n",
      " 5   latitude                   999 non-null    float64\n",
      " 6   distance_mer               0 non-null      float64\n",
      " 7   prix                       999 non-null    float64\n",
      "dtypes: float64(4), int64(3), object(1)\n",
      "memory usage: 62.6+ KB\n",
      "\n",
      " XXXXXXXXXXXXXXXXXXXXXXX\n",
      "\n",
      "<class 'pandas.core.frame.DataFrame'>\n",
      "RangeIndex: 793 entries, 0 to 792\n",
      "Data columns (total 3 columns):\n",
      " #   Column     Non-Null Count  Dtype  \n",
      "---  ------     --------------  -----  \n",
      " 0   longitude  793 non-null    float64\n",
      " 1   latitude   793 non-null    float64\n",
      " 2   ll         793 non-null    int64  \n",
      "dtypes: float64(2), int64(1)\n",
      "memory usage: 18.7 KB\n"
     ]
    }
   ],
   "source": [
    "# To make sure that there are no null values and All are either integers/ Float values \n",
    "DF1.info() \n",
    "print('\\n XXXXXXXXXXXXXXXXXXXXXXX\\n')\n",
    "DF2.info()"
   ]
  },
  {
   "cell_type": "code",
   "execution_count": 7,
   "metadata": {},
   "outputs": [],
   "source": [
    "#fuction to calculate distance\n",
    "from math import radians, cos, sin, asin, sqrt\n",
    "\n",
    "def haversine(lon1, lat1, lon2, lat2):\n",
    "    \"\"\"\n",
    "    Calculate the great circle distance between two points \n",
    "    on the earth (specified in decimal degrees)\n",
    "    \"\"\"\n",
    "    # convert decimal degrees to radians \n",
    "    lon1, lat1, lon2, lat2 = map(radians, [lon1, lat1, lon2, lat2])\n",
    "\n",
    "    # haversine formula \n",
    "    dlon = lon2 - lon1 \n",
    "    dlat = lat2 - lat1 \n",
    "    a = sin(dlat/2)**2 + cos(lat1) * cos(lat2) * sin(dlon/2)**2\n",
    "    c = 2 * asin(sqrt(a)) \n",
    "    r = 6378 # Radius of earth in kilometers\n",
    "    return c * r"
   ]
  },
  {
   "cell_type": "code",
   "execution_count": 8,
   "metadata": {},
   "outputs": [
    {
     "data": {
      "text/html": [
       "<div>\n",
       "<style scoped>\n",
       "    .dataframe tbody tr th:only-of-type {\n",
       "        vertical-align: middle;\n",
       "    }\n",
       "\n",
       "    .dataframe tbody tr th {\n",
       "        vertical-align: top;\n",
       "    }\n",
       "\n",
       "    .dataframe thead th {\n",
       "        text-align: right;\n",
       "    }\n",
       "</style>\n",
       "<table border=\"1\" class=\"dataframe\">\n",
       "  <thead>\n",
       "    <tr style=\"text-align: right;\">\n",
       "      <th></th>\n",
       "      <th>id_mutation</th>\n",
       "      <th>date_mutation</th>\n",
       "      <th>surface_reelle_bati</th>\n",
       "      <th>nombre_pieces_principales</th>\n",
       "      <th>longitude_x</th>\n",
       "      <th>latitude_x</th>\n",
       "      <th>distance_mer</th>\n",
       "      <th>prix</th>\n",
       "      <th>longitude_y</th>\n",
       "      <th>latitude_y</th>\n",
       "      <th>ll</th>\n",
       "    </tr>\n",
       "  </thead>\n",
       "  <tbody>\n",
       "    <tr>\n",
       "      <th>0</th>\n",
       "      <td>2014-871332</td>\n",
       "      <td>2014</td>\n",
       "      <td>153</td>\n",
       "      <td>4</td>\n",
       "      <td>6.484708</td>\n",
       "      <td>43.506405</td>\n",
       "      <td>75.308826</td>\n",
       "      <td>275000.0</td>\n",
       "      <td>5.670597</td>\n",
       "      <td>43.179075</td>\n",
       "      <td>0</td>\n",
       "    </tr>\n",
       "    <tr>\n",
       "      <th>1</th>\n",
       "      <td>2014-871332</td>\n",
       "      <td>2014</td>\n",
       "      <td>153</td>\n",
       "      <td>4</td>\n",
       "      <td>6.484708</td>\n",
       "      <td>43.506405</td>\n",
       "      <td>74.233532</td>\n",
       "      <td>275000.0</td>\n",
       "      <td>5.687840</td>\n",
       "      <td>43.176488</td>\n",
       "      <td>0</td>\n",
       "    </tr>\n",
       "    <tr>\n",
       "      <th>2</th>\n",
       "      <td>2014-871332</td>\n",
       "      <td>2014</td>\n",
       "      <td>153</td>\n",
       "      <td>4</td>\n",
       "      <td>6.484708</td>\n",
       "      <td>43.506405</td>\n",
       "      <td>74.520209</td>\n",
       "      <td>275000.0</td>\n",
       "      <td>5.690636</td>\n",
       "      <td>43.167890</td>\n",
       "      <td>0</td>\n",
       "    </tr>\n",
       "    <tr>\n",
       "      <th>3</th>\n",
       "      <td>2014-871332</td>\n",
       "      <td>2014</td>\n",
       "      <td>153</td>\n",
       "      <td>4</td>\n",
       "      <td>6.484708</td>\n",
       "      <td>43.506405</td>\n",
       "      <td>75.175912</td>\n",
       "      <td>275000.0</td>\n",
       "      <td>5.685014</td>\n",
       "      <td>43.163261</td>\n",
       "      <td>0</td>\n",
       "    </tr>\n",
       "    <tr>\n",
       "      <th>4</th>\n",
       "      <td>2014-871332</td>\n",
       "      <td>2014</td>\n",
       "      <td>153</td>\n",
       "      <td>4</td>\n",
       "      <td>6.484708</td>\n",
       "      <td>43.506405</td>\n",
       "      <td>75.652506</td>\n",
       "      <td>275000.0</td>\n",
       "      <td>5.683744</td>\n",
       "      <td>43.156497</td>\n",
       "      <td>0</td>\n",
       "    </tr>\n",
       "    <tr>\n",
       "      <th>...</th>\n",
       "      <td>...</td>\n",
       "      <td>...</td>\n",
       "      <td>...</td>\n",
       "      <td>...</td>\n",
       "      <td>...</td>\n",
       "      <td>...</td>\n",
       "      <td>...</td>\n",
       "      <td>...</td>\n",
       "      <td>...</td>\n",
       "      <td>...</td>\n",
       "      <td>...</td>\n",
       "    </tr>\n",
       "    <tr>\n",
       "      <th>792202</th>\n",
       "      <td>2014-877816</td>\n",
       "      <td>2014</td>\n",
       "      <td>108</td>\n",
       "      <td>4</td>\n",
       "      <td>6.045601</td>\n",
       "      <td>43.327445</td>\n",
       "      <td>69.963217</td>\n",
       "      <td>120000.0</td>\n",
       "      <td>6.898451</td>\n",
       "      <td>43.431278</td>\n",
       "      <td>0</td>\n",
       "    </tr>\n",
       "    <tr>\n",
       "      <th>792203</th>\n",
       "      <td>2014-877816</td>\n",
       "      <td>2014</td>\n",
       "      <td>108</td>\n",
       "      <td>4</td>\n",
       "      <td>6.045601</td>\n",
       "      <td>43.327445</td>\n",
       "      <td>70.298350</td>\n",
       "      <td>120000.0</td>\n",
       "      <td>6.901374</td>\n",
       "      <td>43.436862</td>\n",
       "      <td>0</td>\n",
       "    </tr>\n",
       "    <tr>\n",
       "      <th>792204</th>\n",
       "      <td>2014-877816</td>\n",
       "      <td>2014</td>\n",
       "      <td>108</td>\n",
       "      <td>4</td>\n",
       "      <td>6.045601</td>\n",
       "      <td>43.327445</td>\n",
       "      <td>70.638157</td>\n",
       "      <td>120000.0</td>\n",
       "      <td>6.904298</td>\n",
       "      <td>43.442445</td>\n",
       "      <td>0</td>\n",
       "    </tr>\n",
       "    <tr>\n",
       "      <th>792205</th>\n",
       "      <td>2014-877816</td>\n",
       "      <td>2014</td>\n",
       "      <td>108</td>\n",
       "      <td>4</td>\n",
       "      <td>6.045601</td>\n",
       "      <td>43.327445</td>\n",
       "      <td>71.711188</td>\n",
       "      <td>120000.0</td>\n",
       "      <td>6.915509</td>\n",
       "      <td>43.451442</td>\n",
       "      <td>0</td>\n",
       "    </tr>\n",
       "    <tr>\n",
       "      <th>792206</th>\n",
       "      <td>2014-877816</td>\n",
       "      <td>2014</td>\n",
       "      <td>108</td>\n",
       "      <td>4</td>\n",
       "      <td>6.045601</td>\n",
       "      <td>43.327445</td>\n",
       "      <td>73.410860</td>\n",
       "      <td>120000.0</td>\n",
       "      <td>6.929988</td>\n",
       "      <td>43.475887</td>\n",
       "      <td>0</td>\n",
       "    </tr>\n",
       "  </tbody>\n",
       "</table>\n",
       "<p>792207 rows × 11 columns</p>\n",
       "</div>"
      ],
      "text/plain": [
       "        id_mutation  date_mutation  surface_reelle_bati  \\\n",
       "0       2014-871332           2014                  153   \n",
       "1       2014-871332           2014                  153   \n",
       "2       2014-871332           2014                  153   \n",
       "3       2014-871332           2014                  153   \n",
       "4       2014-871332           2014                  153   \n",
       "...             ...            ...                  ...   \n",
       "792202  2014-877816           2014                  108   \n",
       "792203  2014-877816           2014                  108   \n",
       "792204  2014-877816           2014                  108   \n",
       "792205  2014-877816           2014                  108   \n",
       "792206  2014-877816           2014                  108   \n",
       "\n",
       "        nombre_pieces_principales  longitude_x  latitude_x  distance_mer  \\\n",
       "0                               4     6.484708   43.506405     75.308826   \n",
       "1                               4     6.484708   43.506405     74.233532   \n",
       "2                               4     6.484708   43.506405     74.520209   \n",
       "3                               4     6.484708   43.506405     75.175912   \n",
       "4                               4     6.484708   43.506405     75.652506   \n",
       "...                           ...          ...         ...           ...   \n",
       "792202                          4     6.045601   43.327445     69.963217   \n",
       "792203                          4     6.045601   43.327445     70.298350   \n",
       "792204                          4     6.045601   43.327445     70.638157   \n",
       "792205                          4     6.045601   43.327445     71.711188   \n",
       "792206                          4     6.045601   43.327445     73.410860   \n",
       "\n",
       "            prix  longitude_y  latitude_y  ll  \n",
       "0       275000.0     5.670597   43.179075   0  \n",
       "1       275000.0     5.687840   43.176488   0  \n",
       "2       275000.0     5.690636   43.167890   0  \n",
       "3       275000.0     5.685014   43.163261   0  \n",
       "4       275000.0     5.683744   43.156497   0  \n",
       "...          ...          ...         ...  ..  \n",
       "792202  120000.0     6.898451   43.431278   0  \n",
       "792203  120000.0     6.901374   43.436862   0  \n",
       "792204  120000.0     6.904298   43.442445   0  \n",
       "792205  120000.0     6.915509   43.451442   0  \n",
       "792206  120000.0     6.929988   43.475887   0  \n",
       "\n",
       "[792207 rows x 11 columns]"
      ]
     },
     "execution_count": 8,
     "metadata": {},
     "output_type": "execute_result"
    }
   ],
   "source": [
    "#multiply each row of House Dataset with all row of mer position Dataset and calculat the distance_mer \n",
    "DF1['key'] = 1\n",
    "DF2['key'] = 1\n",
    "\n",
    "df = DF1.merge(DF2,on='key')\n",
    "del df['key']\n",
    "df['distance_mer'] = df.apply(lambda x: haversine(x['longitude_x'],x['latitude_x'],x['longitude_y'],x['latitude_y']),axis=1)\n",
    "df"
   ]
  },
  {
   "cell_type": "code",
   "execution_count": 9,
   "metadata": {},
   "outputs": [
    {
     "data": {
      "text/html": [
       "<div>\n",
       "<style scoped>\n",
       "    .dataframe tbody tr th:only-of-type {\n",
       "        vertical-align: middle;\n",
       "    }\n",
       "\n",
       "    .dataframe tbody tr th {\n",
       "        vertical-align: top;\n",
       "    }\n",
       "\n",
       "    .dataframe thead th {\n",
       "        text-align: right;\n",
       "    }\n",
       "</style>\n",
       "<table border=\"1\" class=\"dataframe\">\n",
       "  <thead>\n",
       "    <tr style=\"text-align: right;\">\n",
       "      <th></th>\n",
       "      <th>id_mutation</th>\n",
       "      <th>date_mutation</th>\n",
       "      <th>surface_reelle_bati</th>\n",
       "      <th>nombre_pieces_principales</th>\n",
       "      <th>longitude_x</th>\n",
       "      <th>latitude_x</th>\n",
       "      <th>distance_mer</th>\n",
       "      <th>prix</th>\n",
       "      <th>longitude_y</th>\n",
       "      <th>latitude_y</th>\n",
       "      <th>ll</th>\n",
       "    </tr>\n",
       "  </thead>\n",
       "  <tbody>\n",
       "    <tr>\n",
       "      <th>763</th>\n",
       "      <td>2014-871332</td>\n",
       "      <td>2014</td>\n",
       "      <td>153</td>\n",
       "      <td>4</td>\n",
       "      <td>6.484708</td>\n",
       "      <td>43.506405</td>\n",
       "      <td>23.375221</td>\n",
       "      <td>275000.0</td>\n",
       "      <td>6.741429</td>\n",
       "      <td>43.409610</td>\n",
       "      <td>0</td>\n",
       "    </tr>\n",
       "    <tr>\n",
       "      <th>1558</th>\n",
       "      <td>2014-871334</td>\n",
       "      <td>2014</td>\n",
       "      <td>90</td>\n",
       "      <td>4</td>\n",
       "      <td>6.745540</td>\n",
       "      <td>43.461693</td>\n",
       "      <td>4.866144</td>\n",
       "      <td>370000.0</td>\n",
       "      <td>6.753707</td>\n",
       "      <td>43.418383</td>\n",
       "      <td>0</td>\n",
       "    </tr>\n",
       "    <tr>\n",
       "      <th>2378</th>\n",
       "      <td>2014-871343</td>\n",
       "      <td>2014</td>\n",
       "      <td>46</td>\n",
       "      <td>3</td>\n",
       "      <td>6.836668</td>\n",
       "      <td>43.525037</td>\n",
       "      <td>9.312024</td>\n",
       "      <td>302500.0</td>\n",
       "      <td>6.929988</td>\n",
       "      <td>43.475887</td>\n",
       "      <td>0</td>\n",
       "    </tr>\n",
       "    <tr>\n",
       "      <th>3149</th>\n",
       "      <td>2014-871344</td>\n",
       "      <td>2014</td>\n",
       "      <td>117</td>\n",
       "      <td>5</td>\n",
       "      <td>6.802083</td>\n",
       "      <td>43.433279</td>\n",
       "      <td>2.155978</td>\n",
       "      <td>210000.0</td>\n",
       "      <td>6.803585</td>\n",
       "      <td>43.413942</td>\n",
       "      <td>0</td>\n",
       "    </tr>\n",
       "    <tr>\n",
       "      <th>3935</th>\n",
       "      <td>2014-871347</td>\n",
       "      <td>2014</td>\n",
       "      <td>98</td>\n",
       "      <td>4</td>\n",
       "      <td>6.483364</td>\n",
       "      <td>43.509586</td>\n",
       "      <td>23.635811</td>\n",
       "      <td>280000.0</td>\n",
       "      <td>6.741429</td>\n",
       "      <td>43.409610</td>\n",
       "      <td>0</td>\n",
       "    </tr>\n",
       "  </tbody>\n",
       "</table>\n",
       "</div>"
      ],
      "text/plain": [
       "      id_mutation  date_mutation  surface_reelle_bati  \\\n",
       "763   2014-871332           2014                  153   \n",
       "1558  2014-871334           2014                   90   \n",
       "2378  2014-871343           2014                   46   \n",
       "3149  2014-871344           2014                  117   \n",
       "3935  2014-871347           2014                   98   \n",
       "\n",
       "      nombre_pieces_principales  longitude_x  latitude_x  distance_mer  \\\n",
       "763                           4     6.484708   43.506405     23.375221   \n",
       "1558                          4     6.745540   43.461693      4.866144   \n",
       "2378                          3     6.836668   43.525037      9.312024   \n",
       "3149                          5     6.802083   43.433279      2.155978   \n",
       "3935                          4     6.483364   43.509586     23.635811   \n",
       "\n",
       "          prix  longitude_y  latitude_y  ll  \n",
       "763   275000.0     6.741429   43.409610   0  \n",
       "1558  370000.0     6.753707   43.418383   0  \n",
       "2378  302500.0     6.929988   43.475887   0  \n",
       "3149  210000.0     6.803585   43.413942   0  \n",
       "3935  280000.0     6.741429   43.409610   0  "
      ]
     },
     "execution_count": 9,
     "metadata": {},
     "output_type": "execute_result"
    }
   ],
   "source": [
    "#get the id_mutation with the minimum distance_mer\n",
    "df = df.loc[df.groupby(\"id_mutation\")[\"distance_mer\"].idxmin()]\n",
    "df.head()"
   ]
  },
  {
   "cell_type": "code",
   "execution_count": 11,
   "metadata": {},
   "outputs": [
    {
     "data": {
      "text/plain": [
       "(999, 11)"
      ]
     },
     "execution_count": 11,
     "metadata": {},
     "output_type": "execute_result"
    }
   ],
   "source": [
    "df.shape"
   ]
  },
  {
   "cell_type": "markdown",
   "metadata": {},
   "source": [
    "# Analyze the data"
   ]
  },
  {
   "cell_type": "code",
   "execution_count": 12,
   "metadata": {},
   "outputs": [
    {
     "data": {
      "text/plain": [
       "<matplotlib.axes._subplots.AxesSubplot at 0x21ccdb39fd0>"
      ]
     },
     "execution_count": 12,
     "metadata": {},
     "output_type": "execute_result"
    },
    {
     "data": {
      "image/png": "[encoded data removed]",
      "text/plain": [
       "<Figure size 432x288 with 1 Axes>"
      ]
     },
     "metadata": {},
     "output_type": "display_data"
    }
   ],
   "source": [
    "df.dtypes.value_counts().plot.pie()"
   ]
  },
  {
   "cell_type": "code",
   "execution_count": 13,
   "metadata": {},
   "outputs": [
    {
     "data": {
      "image/png": "[encoded data removed]",
      "text/plain": [
       "<Figure size 432x288 with 1 Axes>"
      ]
     },
     "metadata": {
      "needs_background": "light"
     },
     "output_type": "display_data"
    },
    {
     "data": {
      "image/png": "[encoded data removed]",
      "text/plain": [
       "<Figure size 432x288 with 1 Axes>"
      ]
     },
     "metadata": {
      "needs_background": "light"
     },
     "output_type": "display_data"
    },
    {
     "data": {
      "image/png": "[encoded data removed]",
      "text/plain": [
       "<Figure size 432x288 with 1 Axes>"
      ]
     },
     "metadata": {
      "needs_background": "light"
     },
     "output_type": "display_data"
    },
    {
     "data": {
      "image/png": "[encoded data removed]",
      "text/plain": [
       "<Figure size 432x288 with 1 Axes>"
      ]
     },
     "metadata": {
      "needs_background": "light"
     },
     "output_type": "display_data"
    },
    {
     "data": {
      "image/png": "[encoded data removed]",
      "text/plain": [
       "<Figure size 432x288 with 1 Axes>"
      ]
     },
     "metadata": {
      "needs_background": "light"
     },
     "output_type": "display_data"
    },
    {
     "data": {
      "image/png": "[encoded data removed]",
      "text/plain": [
       "<Figure size 432x288 with 1 Axes>"
      ]
     },
     "metadata": {
      "needs_background": "light"
     },
     "output_type": "display_data"
    }
   ],
   "source": [
    "for col in df.select_dtypes('float'):\n",
    "    plt.figure()\n",
    "    sns.distplot(df[col])"
   ]
  },
  {
   "cell_type": "code",
   "execution_count": 14,
   "metadata": {},
   "outputs": [
    {
     "data": {
      "text/plain": [
       "<matplotlib.axes._subplots.AxesSubplot at 0x21cbd789cf8>"
      ]
     },
     "execution_count": 14,
     "metadata": {},
     "output_type": "execute_result"
    },
    {
     "data": {
      "image/png": "[encoded data removed]",
      "text/plain": [
       "<Figure size 432x288 with 1 Axes>"
      ]
     },
     "metadata": {
      "needs_background": "light"
     },
     "output_type": "display_data"
    }
   ],
   "source": [
    "sns.distplot(df['surface_reelle_bati'], bins=20)"
   ]
  },
  {
   "cell_type": "code",
   "execution_count": 15,
   "metadata": {},
   "outputs": [
    {
     "data": {
      "text/plain": [
       "<matplotlib.axes._subplots.AxesSubplot at 0x21cbd7a1390>"
      ]
     },
     "execution_count": 15,
     "metadata": {},
     "output_type": "execute_result"
    },
    {
     "data": {
      "image/png": "[encoded data removed]",
      "text/plain": [
       "<Figure size 432x288 with 1 Axes>"
      ]
     },
     "metadata": {
      "needs_background": "light"
     },
     "output_type": "display_data"
    }
   ],
   "source": [
    "sns.distplot(df['nombre_pieces_principales'], bins=10)"
   ]
  },
  {
   "cell_type": "code",
   "execution_count": 16,
   "metadata": {},
   "outputs": [
    {
     "data": {
      "image/png": "[encoded data removed]",
      "text/plain": [
       "<Figure size 432x288 with 1 Axes>"
      ]
     },
     "metadata": {
      "needs_background": "light"
     },
     "output_type": "display_data"
    }
   ],
   "source": [
    "plt.scatter(df.distance_mer, df.prix,  color='blue')\n",
    "plt.xlabel(\"Distance Mer\")\n",
    "plt.ylabel(\"Prix\")\n",
    "plt.show()"
   ]
  },
  {
   "cell_type": "code",
   "execution_count": 17,
   "metadata": {},
   "outputs": [
    {
     "data": {
      "image/png": "[encoded data removed]",
      "text/plain": [
       "<Figure size 432x288 with 1 Axes>"
      ]
     },
     "metadata": {
      "needs_background": "light"
     },
     "output_type": "display_data"
    }
   ],
   "source": [
    "plt.scatter(df.nombre_pieces_principales, df.prix,  color='blue')\n",
    "plt.xlabel(\"Nombre de piece\")\n",
    "plt.ylabel(\"Prix\")\n",
    "plt.show()"
   ]
  },
  {
   "cell_type": "code",
   "execution_count": 18,
   "metadata": {},
   "outputs": [],
   "source": [
    "df = df.drop('ll', axis=1)"
   ]
  },
  {
   "cell_type": "code",
   "execution_count": 19,
   "metadata": {},
   "outputs": [
    {
     "data": {
      "text/plain": [
       "<matplotlib.axes._subplots.AxesSubplot at 0x21cbd9d5f28>"
      ]
     },
     "execution_count": 19,
     "metadata": {},
     "output_type": "execute_result"
    },
    {
     "data": {
      "image/png": "[encoded data removed]",
      "text/plain": [
       "<Figure size 432x288 with 2 Axes>"
      ]
     },
     "metadata": {
      "needs_background": "light"
     },
     "output_type": "display_data"
    }
   ],
   "source": [
    "matrice_corr = df.corr().round(2)\n",
    "sns.heatmap(data=matrice_corr, annot=True)"
   ]
  },
  {
   "cell_type": "markdown",
   "metadata": {},
   "source": [
    "# Feature selection"
   ]
  },
  {
   "cell_type": "code",
   "execution_count": 20,
   "metadata": {},
   "outputs": [],
   "source": [
    "df_x = df[[\"date_mutation\", \"surface_reelle_bati\", \"nombre_pieces_principales\", \"longitude_x\", \"latitude_x\", \"distance_mer\", \"longitude_y\", \"latitude_y\"]]\n",
    "df_y = df[[\"prix\"]]"
   ]
  },
  {
   "cell_type": "markdown",
   "metadata": {},
   "source": [
    "# Modellistation"
   ]
  },
  {
   "cell_type": "code",
   "execution_count": 22,
   "metadata": {},
   "outputs": [],
   "source": [
    "from sklearn.model_selection import train_test_split\n",
    "X_train, X_test, y_train, y_test = train_test_split(df_x, df_y, test_size=0.2, random_state=1)"
   ]
  },
  {
   "cell_type": "code",
   "execution_count": 23,
   "metadata": {},
   "outputs": [
    {
     "name": "stdout",
     "output_type": "stream",
     "text": [
      "Coefficients:  [[       0.             6028.58956159    -6126.54106495   529950.7363392\n",
      "   -352185.00073733    -1711.39206607   263491.48175584 -1693010.46193719]]\n",
      "Intercept:  [83344624.5357625]\n"
     ]
    }
   ],
   "source": [
    "from sklearn import linear_model\n",
    "regr = linear_model.LinearRegression()\n",
    "regr.fit (X_train, y_train)\n",
    "# The coefficients\n",
    "print ('Coefficients: ', regr.coef_)\n",
    "print('Intercept: ', regr.intercept_)"
   ]
  },
  {
   "cell_type": "code",
   "execution_count": 25,
   "metadata": {},
   "outputs": [
    {
     "name": "stdout",
     "output_type": "stream",
     "text": [
      "[[ 468790.96426174]\n",
      " [ 654089.81222066]\n",
      " [ 524188.71070918]\n",
      " [ 433593.65696871]\n",
      " [ 468155.09643242]\n",
      " [ 281527.21146393]\n",
      " [ 459522.32819244]\n",
      " [ 428282.13597041]\n",
      " [ 347778.79551546]\n",
      " [ 886194.88467224]\n",
      " [ 568837.86905837]\n",
      " [ 423236.11171025]\n",
      " [  80483.59864441]\n",
      " [ 455693.1159552 ]\n",
      " [ 540642.96844989]\n",
      " [ 764536.61536801]\n",
      " [ 426803.40308191]\n",
      " [ 570615.87138066]\n",
      " [ 628202.63325197]\n",
      " [ 172805.0024236 ]\n",
      " [ 553436.34882133]\n",
      " [ 177692.64188431]\n",
      " [ 545074.6063821 ]\n",
      " [ 175991.25758812]\n",
      " [ 974600.78990202]\n",
      " [ 380334.07184753]\n",
      " [ 459130.82669275]\n",
      " [ 347778.79551546]\n",
      " [ 210784.55388887]\n",
      " [ 467989.77019423]\n",
      " [ 150516.0390664 ]\n",
      " [ 428924.03742456]\n",
      " [ 314478.78725764]\n",
      " [ 566142.52588621]\n",
      " [ 338953.58012663]\n",
      " [ 289648.32592024]\n",
      " [ 312101.12284322]\n",
      " [ 198050.00678074]\n",
      " [ 214432.4260314 ]\n",
      " [ 505184.62842409]\n",
      " [ 202109.56148097]\n",
      " [  60413.77429391]\n",
      " [1500636.90082738]\n",
      " [ 204041.39357997]\n",
      " [  82992.6254352 ]\n",
      " [ 417563.4749378 ]\n",
      " [ 240972.79003739]\n",
      " [ 497572.06641142]\n",
      " [ 540984.41327265]\n",
      " [ 177998.25052439]\n",
      " [ 255364.76657984]\n",
      " [ 566704.28472522]\n",
      " [ 172860.19919637]\n",
      " [  98908.86090238]\n",
      " [ 486370.70136634]\n",
      " [ 355970.70890829]\n",
      " [ 663239.96404482]\n",
      " [ 127546.88088921]\n",
      " [ 921102.8175611 ]\n",
      " [ 638192.27438787]\n",
      " [ 313385.89140415]\n",
      " [ 401689.7134517 ]\n",
      " [ 334158.29224887]\n",
      " [ 244196.96542223]\n",
      " [ 545653.71950479]\n",
      " [ 201169.22726181]\n",
      " [ 548085.9006094 ]\n",
      " [ 609594.46902949]\n",
      " [ 179451.74281809]\n",
      " [ 710221.2809293 ]\n",
      " [ 954438.82400033]\n",
      " [ 417984.2805295 ]\n",
      " [ 698065.94744374]\n",
      " [ -33530.43626592]\n",
      " [ 477363.42975964]\n",
      " [1102617.22940396]\n",
      " [ 331952.90964861]\n",
      " [ 580736.03685085]\n",
      " [ 750122.56493549]\n",
      " [ 348430.96142049]\n",
      " [-211755.86735441]\n",
      " [ 110065.8654363 ]\n",
      " [ 634787.76595405]\n",
      " [ 255139.09224099]\n",
      " [ 249654.65081072]\n",
      " [ 368124.03409384]\n",
      " [ 286765.79751588]\n",
      " [ 748467.95947964]\n",
      " [ 309303.04222234]\n",
      " [ 510653.57320936]\n",
      " [  21091.71160956]\n",
      " [  42099.22105461]\n",
      " [ 143458.53185146]\n",
      " [ 584813.63911957]\n",
      " [ 270074.24207166]\n",
      " [ 457910.09680833]\n",
      " [ 230893.17981774]\n",
      " [ 304950.52712855]\n",
      " [ 125808.51183075]\n",
      " [ 285461.08964875]\n",
      " [ 776207.26912682]\n",
      " [ 527240.45521238]\n",
      " [ 468101.91803806]\n",
      " [-178828.64873734]\n",
      " [ 409585.75869995]\n",
      " [ 882038.29314008]\n",
      " [ 288795.98015675]\n",
      " [ 176764.8718195 ]\n",
      " [ 309768.57974178]\n",
      " [-242797.25190234]\n",
      " [ 646448.39594854]\n",
      " [ 587551.2733275 ]\n",
      " [   5181.11534669]\n",
      " [ 658429.46833722]\n",
      " [ 192690.4806647 ]\n",
      " [ 347312.66587369]\n",
      " [ 511003.02098987]\n",
      " [ 577209.51423571]\n",
      " [ 315927.68742384]\n",
      " [ 432609.44962096]\n",
      " [ 492603.04201619]\n",
      " [ 350881.53437018]\n",
      " [ 616295.50014472]\n",
      " [ 573047.6682183 ]\n",
      " [ 695456.71586841]\n",
      " [ 239522.31843132]\n",
      " [ 379941.10845324]\n",
      " [ 229033.25391367]\n",
      " [ 383126.32187423]\n",
      " [ 151902.77210131]\n",
      " [ 214542.11691724]\n",
      " [ 535650.82939617]\n",
      " [ 430122.86918595]\n",
      " [ 102717.32599248]\n",
      " [ 203534.04108559]\n",
      " [ 618882.00949891]\n",
      " [1033502.70144638]\n",
      " [ 400111.54669479]\n",
      " [ 408303.17819758]\n",
      " [ 317515.57495998]\n",
      " [ 372772.40494926]\n",
      " [ 348938.48761921]\n",
      " [ 256216.93170093]\n",
      " [ 293316.81169443]\n",
      " [ 194433.83307377]\n",
      " [ 198772.66310625]\n",
      " [1028690.14063461]\n",
      " [  82524.4544435 ]\n",
      " [ 543136.10526119]\n",
      " [ 280158.71163878]\n",
      " [ 603579.58369167]\n",
      " [ 282033.66529439]\n",
      " [ 521274.3836073 ]\n",
      " [ 550661.51796971]\n",
      " [ 225676.53418572]\n",
      " [ 378972.8755644 ]\n",
      " [ 395231.9991592 ]\n",
      " [ 614904.04424664]\n",
      " [ 613946.77096464]\n",
      " [ 127112.55278656]\n",
      " [ 569806.30360503]\n",
      " [ 169303.08078089]\n",
      " [ 510509.60843138]\n",
      " [ 452692.40502685]\n",
      " [ 478241.73517808]\n",
      " [ 496965.44192927]\n",
      " [ 396393.58247998]\n",
      " [-258119.61195834]\n",
      " [ 204360.81357475]\n",
      " [ 354365.51620065]\n",
      " [1022126.6976532 ]\n",
      " [ 510260.48185283]\n",
      " [ 380794.38991135]\n",
      " [ 638132.82986951]\n",
      " [ 478575.52032533]\n",
      " [ 383806.33079314]\n",
      " [ 285949.8997401 ]\n",
      " [ 273875.65970819]\n",
      " [ 182258.89075764]\n",
      " [-269619.63137023]\n",
      " [ 332402.75351055]\n",
      " [ 167343.75154185]\n",
      " [ 730133.13491249]\n",
      " [ 705544.47500485]\n",
      " [ 398367.31226763]\n",
      " [ 264000.39660908]\n",
      " [ -20339.31785868]\n",
      " [ 312663.4781374 ]\n",
      " [ 419482.14849569]\n",
      " [ 410914.77109998]\n",
      " [ 220151.54351544]\n",
      " [ 533667.05099019]\n",
      " [ 455862.72130996]\n",
      " [ 748992.57746267]\n",
      " [ 510025.11630765]\n",
      " [ 349877.8691123 ]\n",
      " [ 256271.96332176]\n",
      " [ 537431.34932514]\n",
      " [ 452123.05791469]\n",
      " [ 319393.26105769]]\n"
     ]
    }
   ],
   "source": [
    "y_pred = regr.predict(X_test)\n",
    "print(y_pred)"
   ]
  },
  {
   "cell_type": "code",
   "execution_count": 26,
   "metadata": {},
   "outputs": [
    {
     "name": "stdout",
     "output_type": "stream",
     "text": [
      "            prix\n",
      "402817  430000.0\n",
      "482909  440200.0\n",
      "359183  495000.0\n",
      "292588  190000.0\n",
      "192698  401300.0\n",
      "...          ...\n",
      "341754  290000.0\n",
      "466228  185000.0\n",
      "436915  395000.0\n",
      "482122  340000.0\n",
      "164915  171000.0\n",
      "\n",
      "[200 rows x 1 columns]\n"
     ]
    }
   ],
   "source": [
    "print(y_test)"
   ]
  },
  {
   "cell_type": "markdown",
   "metadata": {},
   "source": [
    "# Evaluation procedure"
   ]
  },
  {
   "cell_type": "code",
   "execution_count": 27,
   "metadata": {},
   "outputs": [
    {
     "name": "stdout",
     "output_type": "stream",
     "text": [
      "Residual sum of squares: 57640101494.44\n"
     ]
    }
   ],
   "source": [
    "print(\"Residual sum of squares: %.2f\"\n",
    "      % np.mean((y_pred - y_test) ** 2))"
   ]
  },
  {
   "cell_type": "code",
   "execution_count": 30,
   "metadata": {},
   "outputs": [
    {
     "name": "stdout",
     "output_type": "stream",
     "text": [
      "57640101494.442986\n"
     ]
    }
   ],
   "source": [
    "from sklearn.metrics import mean_squared_error\n",
    "print(mean_squared_error(y_pred, y_test))"
   ]
  },
  {
   "cell_type": "code",
   "execution_count": 50,
   "metadata": {},
   "outputs": [
    {
     "name": "stdout",
     "output_type": "stream",
     "text": [
      "Variance score: 0.12\n"
     ]
    }
   ],
   "source": [
    "# Explained variance score: 1 is perfect prediction\n",
    "print('Variance score: %.2f' % regr.score(X_test, y_test))"
   ]
  }
 ],
 "metadata": {
  "hide_input": false,
  "kernelspec": {
   "display_name": "Python 3",
   "language": "python",
   "name": "python3"
  },
  "language_info": {
   "codemirror_mode": {
    "name": "ipython",
    "version": 3
   },
   "file_extension": ".py",
   "mimetype": "text/x-python",
   "name": "python",
   "nbconvert_exporter": "python",
   "pygments_lexer": "ipython3",
   "version": "3.6.10"
  }
 },
 "nbformat": 4,
 "nbformat_minor": 4
}
